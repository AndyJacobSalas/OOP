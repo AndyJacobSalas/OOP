{
 "cells": [
  {
   "cell_type": "markdown",
   "metadata": {},
   "source": [
    "# Ejercicio 4 de OOP"
   ]
  },
  {
   "cell_type": "markdown",
   "metadata": {},
   "source": [
    "<img src=\"./Diagramas_clases/04_overrinding.png\" alt=\"Ex 1\" width=\"500\">"
   ]
  },
  {
   "cell_type": "code",
   "execution_count": null,
   "metadata": {},
   "outputs": [],
   "source": [
    "class Animal:\n",
    "    def __init__(self, name):\n",
    "        self.name = name\n",
    "\n",
    "\n",
    "    def say_name(self):\n",
    "        print(f'Mi nombre es {self.name}')\n",
    "\n",
    "    def eat(self):\n",
    "        print(f'Jummy Jummy!, estoy comiendo')\n",
    "    \n",
    "    def make_noise(self):\n",
    "        print(f'{self.name} hago Grrr!')\n",
    "\n",
    "class Cat(Animal):\n",
    "    def meow (self):\n",
    "        print(f'Soy un gato y hago meow!')\n",
    "\n",
    "    def make_noise(self):\n",
    "        print(f'{self.name}'hago prrr!)\n",
    "\n",
    "class Dog(Animal):\n",
    "    def bark(self):\n",
    "        print(f'Soy un Perro y hago guau guau!')\n"
   ]
  },
  {
   "cell_type": "code",
   "execution_count": null,
   "metadata": {},
   "outputs": [],
   "source": [
    "Manchas = Dog (\"Manchas\")\n",
    "Manchas.say_name()\n",
    "Manchas.bark()\n",
    "Manchas.eat()\n",
    "\n",
    "Bombon = Cat\n",
    "\n"
   ]
  }
 ],
 "metadata": {
  "language_info": {
   "name": "python"
  }
 },
 "nbformat": 4,
 "nbformat_minor": 2
}
