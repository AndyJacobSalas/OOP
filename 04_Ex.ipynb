{
 "cells": [
  {
   "cell_type": "markdown",
   "metadata": {},
   "source": [
    "# Ejercicio 4 de OOP"
   ]
  },
  {
   "cell_type": "markdown",
   "metadata": {},
   "source": [
    "<img src=\"./Diagramas_clases/04_overrinding.png\" alt=\"Ex 1\" width=\"500\">"
   ]
  },
  {
   "cell_type": "code",
   "execution_count": 1,
   "metadata": {},
   "outputs": [],
   "source": [
    "class Animal:\n",
    "    def __init__(self, name):\n",
    "        self.name = name\n",
    "\n",
    "\n",
    "    def eat(self):\n",
    "        print(\"Yummy Yummy! estoy comiendo\")\n",
    "\n",
    "    def make_noise(self):\n",
    "        print(f\"{self.name} hace Grrrr!\")\n",
    "\n",
    "class Cat(Animal):\n",
    "    def make_noise(self):\n",
    "        print(f\"{self.name} hace Rrrrr!\")\n",
    "\n",
    "    def meou(self):\n",
    "        print(\"Soy un gato y hago Meou\")   \n",
    "\n",
    "class Dog(Animal):\n",
    "    def bark(self):\n",
    "        print(\"Soy un peroo y hago woof woof!\")\n"
   ]
  },
  {
   "cell_type": "code",
   "execution_count": 2,
   "metadata": {},
   "outputs": [
    {
     "name": "stdout",
     "output_type": "stream",
     "text": [
      "Michu hace Rrrrr!\n",
      "Soy un gato y hago Meou\n",
      "Yummy Yummy! estoy comiendo\n",
      "Soy un peroo y hago woof woof!\n",
      "Yummy Yummy! estoy comiendo\n",
      "Manchas hace Grrrr!\n"
     ]
    }
   ],
   "source": [
    "Michu = Cat(\"Michu\")\n",
    "Michu.make_noise()\n",
    "Michu.meou()\n",
    "Michu.eat()\n",
    "\n",
    "Manchas = Dog (\"Manchas\")\n",
    "Manchas.bark()\n",
    "Manchas.eat()\n",
    "Manchas.make_noise()\n",
    "\n"
   ]
  }
 ],
 "metadata": {
  "kernelspec": {
   "display_name": "Python 3",
   "language": "python",
   "name": "python3"
  },
  "language_info": {
   "codemirror_mode": {
    "name": "ipython",
    "version": 3
   },
   "file_extension": ".py",
   "mimetype": "text/x-python",
   "name": "python",
   "nbconvert_exporter": "python",
   "pygments_lexer": "ipython3",
   "version": "3.11.4"
  }
 },
 "nbformat": 4,
 "nbformat_minor": 2
}
