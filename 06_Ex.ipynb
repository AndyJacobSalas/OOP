{
 "cells": [
  {
   "cell_type": "markdown",
   "metadata": {},
   "source": [
    "# Ejercicio 6 de OOP"
   ]
  },
  {
   "cell_type": "markdown",
   "metadata": {},
   "source": [
    "<img src=\"./Diagramas_clases/WhatsApp Image 2024-08-21 at 9.22.11 AM.jpeg\" alt=\"Ex 1\" width=\"500\">"
   ]
  },
  {
   "cell_type": "markdown",
   "metadata": {},
   "source": [
    "# Clase Employee\n",
    "- **int id**: Atributo de instrancia. Identifica de manera unica a cada indtancia de \"Employee\".\n",
    "- **int new _id**: Atributo de clase. Indentificador unico.\n",
    "- **void say_id()**: Imprime el \"id\" de la instancia.\n",
    "\n",
    "## Clase User\n",
    "- **str roles**: Atributo de la instrancia. Fincion de la instancia de \"User\" P.ej.\n",
    "    - Admistrador \n",
    "    - Manager\n",
    "    - Usuario\n",
    "- **str username**: Atributo de la instancia. Nombre del usuario.\n",
    "- **void say_user_info()**: Imprime \"Mi nombre es {self.username} y soy {self.roles}\".\n",
    "\n",
    "## Clase Admi\n",
    "- **void say_id()**: Imprime:\n",
    "    - \"Mi id es: {self.id}.\n",
    "    - Soy un Administrador \\\\(O-O)/.\n",
    "\n",
    "## Clase Manager\n",
    "- "
   ]
  },
  {
   "cell_type": "code",
   "execution_count": null,
   "metadata": {},
   "outputs": [],
   "source": [
    "class Employee:\n",
    "    new_id = 1\n",
    "\n",
    "    def __init__(self):\n",
    "        self.id = Employee.new_id\n",
    "        Employee.new_id += 1\n",
    "\n",
    "\n",
    "    def say_id(self):\n",
    "        print(f'Mi id es: {self.id}')   \n",
    "\n",
    "class User():\n",
    "    def __init__(self):\n",
    "        self.role = \n",
    "\n",
    "\n",
    "class Admin(Employee):\n",
    "    def say_id(self):\n",
    "        super().say_id()\n",
    "        print(f\"Soy un administrador \\(O-O)/\")\n",
    "\n",
    "class Manager(Admin):\n",
    "    def say_id(self):\n",
    "        #super().say_id()\n",
    "        print(f'Soy un manager y estoy a cargo')\n",
    "\n",
    "    \n",
    "        "
   ]
  }
 ],
 "metadata": {
  "language_info": {
   "name": "python"
  }
 },
 "nbformat": 4,
 "nbformat_minor": 2
}
