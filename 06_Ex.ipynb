{
 "cells": [
  {
   "cell_type": "markdown",
   "metadata": {},
   "source": [
    "# Ejercicio 6 de OOP"
   ]
  },
  {
   "cell_type": "markdown",
   "metadata": {},
   "source": [
    "<img src=\"./Diagramas_clases/WhatsApp Image 2024-08-21 at 9.22.11 AM.jpeg\" alt=\"Ex 1\" width=\"500\">"
   ]
  },
  {
   "cell_type": "markdown",
   "metadata": {},
   "source": [
    "# Clase Employee\n",
    "- **int id**: Atributo de instrancia. Identifica de manera unica a cada indtancia de \"Employee\".\n",
    "- **int new _id**: Atributo de clase. Indentificador unico.\n",
    "- **void say_id()**: Imprime el \"id\" de la instancia.\n",
    "\n",
    "## Clase User\n",
    "- **str roles**: Atributo de la instrancia. Fincion de la instancia de \"User\" P.ej.\n",
    "    - Admistrador \n",
    "    - Manager\n",
    "    - Usuario\n",
    "- **str username**: Atributo de la instancia. Nombre del usuario.\n",
    "- **void say_user_info()**: Imprime \"Mi nombre es {self.username} y soy {self.roles}\".\n",
    "\n",
    "## Clase Admi\n",
    "- **void say_id()**: Imprime:\n",
    "    - \"Mi id es: {self.id}.\n",
    "    - Soy un Administrador \\\\(O-O)/.\n",
    "\n",
    "## Clase Manager\n",
    "- **void saiy_id()** : Imprime:\n",
    "    - \"Mi id es:{self.id}.\n",
    "    - \"Soy un Administrador \\\\(O-O)/\".\n",
    "    - \"Y estoy al mando\" "
   ]
  },
  {
   "cell_type": "code",
   "execution_count": 26,
   "metadata": {},
   "outputs": [],
   "source": [
    "class Employee:\n",
    "    new_id = 1\n",
    "\n",
    "    def __init__(self):\n",
    "        self.id = Employee.new_id\n",
    "        Employee.new_id += 1\n",
    "\n",
    "\n",
    "    def say_id(self):\n",
    "        print(f'Mi id es: {self.id}')   \n",
    "\n",
    "class User():\n",
    "    def __init__(self, role, name):\n",
    "        self.role = role\n",
    "        self.name = name\n",
    "\n",
    "    def say_user_info(self):\n",
    "        print(f'Mi nombre es {self.name} y mi role es: {self.role}')\n",
    "\n",
    "\n",
    "class Admin(Employee, User):\n",
    "    def say_id(self):\n",
    "        super ().say_id()\n",
    "        print(f\"Soy un administrador \\(O-O)/\")\n",
    "\n",
    "class Manager(Admin, User):\n",
    "    def say_id(self):\n",
    "        super().say_id()\n",
    "        print(f'Soy un manager y estoy a cargo')\n",
    "\n",
    "    \n",
    "        "
   ]
  },
  {
   "cell_type": "code",
   "execution_count": 27,
   "metadata": {},
   "outputs": [
    {
     "name": "stdout",
     "output_type": "stream",
     "text": [
      "Mi id es: 1\n",
      "Mi id es: 2\n",
      "Soy un administrador \\(O-O)/\n",
      "Mi nombre es Pedro y mi role es: Administrador\n",
      "Mi id es: 3\n",
      "Soy un administrador \\(O-O)/\n",
      "Soy un manager y estoy a cargo\n",
      "Mi nombre es Martin y mi role es: Manager\n"
     ]
    }
   ],
   "source": [
    "Juan = Employee()\n",
    "Juan.say_id()\n",
    "\n",
    "\n",
    "Pedro = Admin()\n",
    "Pedro.say_id()\n",
    "Pedro = User(\"Administrador\", \"Pedro\")\n",
    "Pedro.say_user_info()\n",
    "\n",
    "\n",
    "Martin = Manager()\n",
    "Martin.say_id()\n",
    "Martin = User(\"Manager\", \"Martin\")\n",
    "Martin.say_user_info()\n"
   ]
  }
 ],
 "metadata": {
  "kernelspec": {
   "display_name": "Python 3",
   "language": "python",
   "name": "python3"
  },
  "language_info": {
   "codemirror_mode": {
    "name": "ipython",
    "version": 3
   },
   "file_extension": ".py",
   "mimetype": "text/x-python",
   "name": "python",
   "nbconvert_exporter": "python",
   "pygments_lexer": "ipython3",
   "version": "3.11.4"
  }
 },
 "nbformat": 4,
 "nbformat_minor": 2
}
