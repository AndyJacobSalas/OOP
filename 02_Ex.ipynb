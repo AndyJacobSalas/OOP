{
 "cells": [
  {
   "cell_type": "markdown",
   "metadata": {},
   "source": [
    "# Ejercicio 2 de OOP"
   ]
  },
  {
   "cell_type": "markdown",
   "metadata": {},
   "source": [
    "<img src=\"./Diagramas_clases/02_herencia.png\" alt=\"Ex 1\" width=\"500\">"
   ]
  },
  {
   "cell_type": "code",
   "execution_count": 9,
   "metadata": {},
   "outputs": [],
   "source": [
    "class Animal:\n",
    "    def __init__(self, name):\n",
    "        self.name = name\n",
    "\n",
    "\n",
    "    def say_name(self):\n",
    "        print(f'Mi nombre es {self.name}')\n",
    "\n",
    "    def eat(self):\n",
    "        print(f'Yummy Yummy!, estoy comiendo')\n",
    "\n",
    "class Cat (Animal):\n",
    "    def meow (self):\n",
    "        print(f'Soy un gato y hago meow!')\n",
    "\n",
    "class Dog (Animal):\n",
    "    def bark(self):\n",
    "        print(f'Soy un Perro y hago guau guau!')\n"
   ]
  },
  {
   "cell_type": "code",
   "execution_count": 10,
   "metadata": {},
   "outputs": [
    {
     "name": "stdout",
     "output_type": "stream",
     "text": [
      "Mi nombre es Solo_vino\n",
      "Soy un Perro y hago guau guau!\n",
      "Yummy Yummy!, estoy comiendo\n",
      "Mi nombre es Felix\n",
      "Soy un gato y hago meow!\n",
      "Yummy Yummy!, estoy comiendo\n"
     ]
    }
   ],
   "source": [
    "Solo_vino = Dog(\"Solo_vino\")\n",
    "Solo_vino.say_name()\n",
    "Solo_vino.bark()\n",
    "Solo_vino.eat()\n",
    "\n",
    "Felix = Cat(\"Felix\")\n",
    "Felix.say_name()\n",
    "Felix.meow()\n",
    "Felix.eat()\n"
   ]
  },
  {
   "cell_type": "markdown",
   "metadata": {},
   "source": [
    "Este ejercicio represente la herencia en OOP.\n"
   ]
  }
 ],
 "metadata": {
  "kernelspec": {
   "display_name": "Python 3",
   "language": "python",
   "name": "python3"
  },
  "language_info": {
   "codemirror_mode": {
    "name": "ipython",
    "version": 3
   },
   "file_extension": ".py",
   "mimetype": "text/x-python",
   "name": "python",
   "nbconvert_exporter": "python",
   "pygments_lexer": "ipython3",
   "version": "3.11.4"
  }
 },
 "nbformat": 4,
 "nbformat_minor": 2
}
